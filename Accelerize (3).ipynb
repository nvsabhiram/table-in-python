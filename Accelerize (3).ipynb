{
 "cells": [
  {
   "cell_type": "code",
   "execution_count": 49,
   "metadata": {},
   "outputs": [
    {
     "name": "stdout",
     "output_type": "stream",
     "text": [
      "Price of the product is: $ Product not found\n"
     ]
    }
   ],
   "source": [
    "def getPriceOfProduct(data,product_name,province_name):\n",
    "    data=sorted(data,key=lambda x:x[1],reverse=True)\n",
    "    \n",
    "    #loop to run through the list/table\n",
    "    for x in data:\n",
    "       \n",
    "        # Checking if the product exists\n",
    "        if x[0].casefold() == product_name.casefold():\n",
    "           \n",
    "            # Checking if it is provincial / national\n",
    "            if ((x[2].casefold() == province_name.casefold()) and x[1].casefold()==\"provincial\"):\n",
    "                return x[3] #returning provincial price if product is found and the region matches with \"provincial\"\n",
    "           # checking if region is national to return national price\n",
    "            elif (x[2] == \"\" and x[1].casefold()==\"national\"):\n",
    "                return x[3]\n",
    "           #to convey if the product is not found in the list\n",
    "    \n",
    "    return (\"Product not found\")                \n",
    "           \n",
    "input_data =[[\"Kale\",\"Provincial\",\"Ontario\",5.99],[\"Celery\",\"Provincial\",\"Alberta\",4.99],[\"Kale\",\"National\",\"\",4.50],\n",
    "             [\"Celery\",\"Provincial\",\"Quebec\",7.49],[\"Celery\",\"National\",\"\",4.59],\n",
    "             [\"Lettuce\",\"Provincial\",\"Alberta\",8.99],[\"Lettuce\",\"National\",\"\",5.59],\n",
    "             [\"Parsley\",\"National\",\"\",7.49],[\"Broccoli\",\"Provincial\",\"Montreal\",6.99],\n",
    "             [\"Broccoli\",\"National\",\"\",9.49],[\"Parsley\",\"Provincial\",\"Ottowa\",11.99]]\n",
    "\n",
    "result = getPriceOfProduct(input_data,\"Parsy\",\"hello\") #search here by changing product and province\n",
    "print(\"Price of the product is: $\",result)\n"
   ]
  },
  {
   "cell_type": "code",
   "execution_count": null,
   "metadata": {
    "collapsed": true
   },
   "outputs": [],
   "source": []
  },
  {
   "cell_type": "code",
   "execution_count": null,
   "metadata": {
    "collapsed": true
   },
   "outputs": [],
   "source": []
  }
 ],
 "metadata": {
  "kernelspec": {
   "display_name": "Python 3",
   "language": "python",
   "name": "python3"
  },
  "language_info": {
   "codemirror_mode": {
    "name": "ipython",
    "version": 3
   },
   "file_extension": ".py",
   "mimetype": "text/x-python",
   "name": "python",
   "nbconvert_exporter": "python",
   "pygments_lexer": "ipython3",
   "version": "3.6.1"
  }
 },
 "nbformat": 4,
 "nbformat_minor": 2
}
